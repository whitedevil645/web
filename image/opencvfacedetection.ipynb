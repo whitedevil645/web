{
 "cells": [
  {
   "cell_type": "code",
   "execution_count": 1,
   "metadata": {},
   "outputs": [],
   "source": [
    "import cv2\n",
    "import os\n",
    "import numpy as np"
   ]
  },
  {
   "cell_type": "code",
   "execution_count": 2,
   "metadata": {},
   "outputs": [],
   "source": [
    "subjects = [\"\", \"Abhishek\", \"Deepak\",\"Sahil\"] # change the name according to you as per your pictures in folders s1,s2,s3 etc respectively"
   ]
  },
  {
   "cell_type": "code",
   "execution_count": 3,
   "metadata": {},
   "outputs": [],
   "source": [
    "def detect_face(img):\n",
    "    gray = cv2.cvtColor(img, cv2.COLOR_BGR2GRAY)\n",
    "    face_cascade = cv2.CascadeClassifier('/home/abhishek/Downloads/cv_t2/opencv-3.4.2/data/lbpcascades/lbpcascade_frontalface_improved.xml')\n",
    "    faces = face_cascade.detectMultiScale(gray, scaleFactor=1.1, minNeighbors=5)\n",
    "    grays=[]\n",
    "    face_code=[]\n",
    "    if (len(faces) == 0):\n",
    "         return None,None\n",
    "    else:\n",
    "        for face in faces:\n",
    "            (x,y,w,h)=face\n",
    "            grays.append(gray[y:y+w, x:x+h])\n",
    "            face_code.append(face)\n",
    "        return grays,face_code"
   ]
  },
  {
   "cell_type": "code",
   "execution_count": 4,
   "metadata": {},
   "outputs": [],
   "source": [
    "def prepare_training_data(data_folder_path):\n",
    "    dirs = os.listdir(data_folder_path)\n",
    "    faces = []\n",
    "    labels = []\n",
    "    for dir_name in dirs:\n",
    "        if not dir_name.startswith(\"s\"):\n",
    "            continue;\n",
    "        label = int(dir_name.replace(\"s\", \"\"))\n",
    "        subject_dir_path = data_folder_path + \"/\" + dir_name\n",
    "        subject_images_names = os.listdir(subject_dir_path)\n",
    "        for image_name in subject_images_names:\n",
    "            if image_name.startswith(\".\"):\n",
    "                continue;\n",
    "            image_path = subject_dir_path + \"/\" + image_name\n",
    "            image = cv2.imread(image_path)\n",
    "            cv2.imshow(\"Training on image...\", image)\n",
    "            cv2.waitKey(100)\n",
    "            face, rect = detect_face(image)\n",
    "            if face is not None:\n",
    "                for fa in face:\n",
    "                    faces.append(fa)\n",
    "                    labels.append(label)\n",
    "        cv2.destroyAllWindows()\n",
    "        cv2.waitKey(1)\n",
    "        cv2.destroyAllWindows()\n",
    "\n",
    "    return faces, labels"
   ]
  },
  {
   "cell_type": "code",
   "execution_count": 5,
   "metadata": {},
   "outputs": [
    {
     "name": "stdout",
     "output_type": "stream",
     "text": [
      "Preparing data...\n",
      "Data prepared\n",
      "Total faces:  498\n",
      "Total labels:  498\n"
     ]
    }
   ],
   "source": [
    "print(\"Preparing data...\")\n",
    "faces, labels = prepare_training_data(\"/home/abhishek/Desktop/face_detect/training-data\")\n",
    "print(\"Data prepared\")\n",
    "print(\"Total faces: \", len(faces))\n",
    "print(\"Total labels: \", len(labels))"
   ]
  },
  {
   "cell_type": "code",
   "execution_count": 6,
   "metadata": {},
   "outputs": [],
   "source": [
    "face_recognizer = cv2.face.LBPHFaceRecognizer_create()"
   ]
  },
  {
   "cell_type": "code",
   "execution_count": 7,
   "metadata": {},
   "outputs": [],
   "source": [
    "face_recognizer.train(faces, np.array(labels))"
   ]
  },
  {
   "cell_type": "code",
   "execution_count": 8,
   "metadata": {},
   "outputs": [],
   "source": [
    "def draw_rectangle(img, rect):\n",
    "     (x, y, w, h) = rect\n",
    "     cv2.rectangle(img, (x, y), (x+w, y+h), (0, 255, 0), 2)\n",
    "\n",
    "def draw_text(img, text, x, y):\n",
    "     cv2.putText(img, text, (x, y), cv2.FONT_HERSHEY_PLAIN, 1.5, (0, 255, 0), 2)"
   ]
  },
  {
   "cell_type": "code",
   "execution_count": 9,
   "metadata": {},
   "outputs": [],
   "source": [
    "def predict(test_img):\n",
    "    img = test_img.copy()\n",
    "    face, rect = detect_face(img)\n",
    "    if face is None:\n",
    "        return test_img\n",
    "    else:\n",
    "         for fa,re in zip(face,rect):   \n",
    "            label= face_recognizer.predict(fa)\n",
    "            label_text = subjects[label[0]]\n",
    "            draw_rectangle(img, re)\n",
    "            draw_text(img, label_text, re[0], re[1]-5)\n",
    "\n",
    "    return img"
   ]
  },
  {
   "cell_type": "code",
   "execution_count": 14,
   "metadata": {},
   "outputs": [
    {
     "name": "stdout",
     "output_type": "stream",
     "text": [
      "Predicting images...\n",
      "Prediction complete\n",
      "Prediction complete\n",
      "Prediction complete\n",
      "Prediction complete\n",
      "Prediction complete\n",
      "Prediction complete\n",
      "Prediction complete\n",
      "Prediction complete\n",
      "Prediction complete\n",
      "Prediction complete\n",
      "Prediction complete\n",
      "Prediction complete\n",
      "Prediction complete\n",
      "Prediction complete\n",
      "Prediction complete\n",
      "Prediction complete\n",
      "Prediction complete\n",
      "Prediction complete\n",
      "Prediction complete\n",
      "Prediction complete\n",
      "Prediction complete\n",
      "Prediction complete\n",
      "Prediction complete\n",
      "Prediction complete\n",
      "Prediction complete\n",
      "Prediction complete\n",
      "Prediction complete\n",
      "Prediction complete\n",
      "Prediction complete\n",
      "Prediction complete\n",
      "Prediction complete\n",
      "Prediction complete\n",
      "Prediction complete\n",
      "Prediction complete\n",
      "Prediction complete\n",
      "Prediction complete\n",
      "Prediction complete\n",
      "Prediction complete\n",
      "Prediction complete\n",
      "Prediction complete\n",
      "Prediction complete\n",
      "Prediction complete\n",
      "Prediction complete\n",
      "Prediction complete\n",
      "Prediction complete\n",
      "Prediction complete\n",
      "Prediction complete\n",
      "Prediction complete\n",
      "Prediction complete\n",
      "Prediction complete\n",
      "Prediction complete\n",
      "Prediction complete\n",
      "Prediction complete\n",
      "Prediction complete\n",
      "Prediction complete\n",
      "Prediction complete\n",
      "Prediction complete\n",
      "Prediction complete\n",
      "Prediction complete\n",
      "Prediction complete\n",
      "Prediction complete\n",
      "Prediction complete\n",
      "Prediction complete\n",
      "Prediction complete\n",
      "Prediction complete\n",
      "Prediction complete\n",
      "Prediction complete\n",
      "Prediction complete\n",
      "Prediction complete\n",
      "Prediction complete\n",
      "Prediction complete\n",
      "Prediction complete\n",
      "Prediction complete\n",
      "Prediction complete\n",
      "Prediction complete\n",
      "Prediction complete\n",
      "Prediction complete\n",
      "Prediction complete\n",
      "Prediction complete\n",
      "Prediction complete\n",
      "Prediction complete\n",
      "Prediction complete\n",
      "Prediction complete\n",
      "Prediction complete\n",
      "Prediction complete\n",
      "Prediction complete\n",
      "Prediction complete\n",
      "Prediction complete\n",
      "Prediction complete\n",
      "Prediction complete\n",
      "Prediction complete\n",
      "Prediction complete\n",
      "Prediction complete\n",
      "Prediction complete\n",
      "Prediction complete\n",
      "Prediction complete\n",
      "Prediction complete\n",
      "Prediction complete\n",
      "Prediction complete\n",
      "Prediction complete\n",
      "Prediction complete\n",
      "Prediction complete\n",
      "Prediction complete\n",
      "Prediction complete\n",
      "Prediction complete\n",
      "Prediction complete\n",
      "Prediction complete\n",
      "Prediction complete\n",
      "Prediction complete\n",
      "Prediction complete\n",
      "Prediction complete\n",
      "Prediction complete\n",
      "Prediction complete\n",
      "Prediction complete\n",
      "Prediction complete\n",
      "Prediction complete\n",
      "Prediction complete\n",
      "Prediction complete\n"
     ]
    }
   ],
   "source": [
    "print(\"Predicting images...\")\n",
    "cap=cv2.VideoCapture(0)\n",
    "while( cap.isOpened() ):\n",
    "    # Capture frame-by-frame\n",
    "    ret, frame = cap.read()\n",
    "    if frame is not None: \n",
    "        predicted_img1 = predict(frame)\n",
    "        print(\"Prediction complete\")\n",
    "        cv2.imshow(subjects[1], predicted_img1)\n",
    "        if cv2.waitKey(1) & 0xFF == ord('q'):   #press q to quit the window \n",
    "                 break     \n",
    "cap.release()\n",
    "cv2.destroyAllWindows()"
   ]
  },
  {
   "cell_type": "code",
   "execution_count": null,
   "metadata": {},
   "outputs": [],
   "source": []
  },
  {
   "cell_type": "code",
   "execution_count": null,
   "metadata": {},
   "outputs": [],
   "source": []
  },
  {
   "cell_type": "code",
   "execution_count": null,
   "metadata": {},
   "outputs": [],
   "source": []
  },
  {
   "cell_type": "code",
   "execution_count": null,
   "metadata": {},
   "outputs": [],
   "source": []
  }
 ],
 "metadata": {
  "kernelspec": {
   "display_name": "Python 3",
   "language": "python",
   "name": "python3"
  },
  "language_info": {
   "codemirror_mode": {
    "name": "ipython",
    "version": 3
   },
   "file_extension": ".py",
   "mimetype": "text/x-python",
   "name": "python",
   "nbconvert_exporter": "python",
   "pygments_lexer": "ipython3",
   "version": "3.6.5"
  }
 },
 "nbformat": 4,
 "nbformat_minor": 2
}
